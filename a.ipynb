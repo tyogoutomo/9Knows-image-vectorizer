{
 "cells": [
  {
   "cell_type": "code",
   "execution_count": 2,
   "id": "68aab347",
   "metadata": {},
   "outputs": [
    {
     "ename": "ModuleNotFoundError",
     "evalue": "No module named 'torchvision'",
     "output_type": "error",
     "traceback": [
      "\u001b[31m---------------------------------------------------------------------------\u001b[39m",
      "\u001b[31mModuleNotFoundError\u001b[39m                       Traceback (most recent call last)",
      "\u001b[36mCell\u001b[39m\u001b[36m \u001b[39m\u001b[32mIn[2]\u001b[39m\u001b[32m, line 7\u001b[39m\n\u001b[32m      5\u001b[39m \u001b[38;5;66;03m# import psycopg2\u001b[39;00m\n\u001b[32m      6\u001b[39m \u001b[38;5;28;01mimport\u001b[39;00m\u001b[38;5;250m \u001b[39m\u001b[34;01mtorch\u001b[39;00m\n\u001b[32m----> \u001b[39m\u001b[32m7\u001b[39m \u001b[38;5;28;01mfrom\u001b[39;00m\u001b[38;5;250m \u001b[39m\u001b[34;01mtorchvision\u001b[39;00m\u001b[38;5;250m \u001b[39m\u001b[38;5;28;01mimport\u001b[39;00m models, transforms\n\u001b[32m      9\u001b[39m model = models.resnet50(pretrained=\u001b[38;5;28;01mTrue\u001b[39;00m)\n\u001b[32m     10\u001b[39m model = torch.nn.Sequential(*\u001b[38;5;28mlist\u001b[39m(model.children())[:-\u001b[32m1\u001b[39m])\n",
      "\u001b[31mModuleNotFoundError\u001b[39m: No module named 'torchvision'"
     ]
    }
   ],
   "source": [
    "import numpy as np\n",
    "from PIL import Image\n",
    "import io\n",
    "import os\n",
    "# import psycopg2\n",
    "import torch\n",
    "from torchvision import models, transforms\n",
    "\n",
    "model = models.resnet50(pretrained=True)\n",
    "model = torch.nn.Sequential(*list(model.children())[:-1])\n",
    "\n",
    "def vectorize_image(image_bytes: bytes) -> list[float]:\n",
    "    \"\"\"Convert an image into a fake vector embedding (stub).\"\"\"\n",
    "    image = Image.open(io.BytesIO(image_bytes)).convert(\"RGB\") # rgb\n",
    "    # arr = np.array(image.resize((32, 32))).flatten()\n",
    "    # vector = arr / 255.0  # normalize\n",
    "    \n",
    "    preprocess = transforms.Compose([\n",
    "        transforms.Resize(256),\n",
    "        transforms.CenterCrop(224),\n",
    "        transforms.ToTensor(),\n",
    "        transforms.Normalize(mean=[0.485, 0.456, 0.406], std=[0.229, 0.224, 0.225]),\n",
    "    ])\n",
    "    image_tensor = preprocess(image).unsqueeze(0)\n",
    "    with torch.no_grad():\n",
    "        embedding = model(image_tensor)\n",
    "    return embedding.squeeze().numpy()\n",
    "\n",
    "\n",
    "# def save_vector_to_db(filename: str, vector: list[float]):\n",
    "#     \"\"\"Save the image vector to a PostgreSQL database.\"\"\"\n",
    "#     conn = psycopg2.connect(\n",
    "#         dbname=os.getenv(\"DB_NAME\"),\n",
    "#         user=os.getenv(\"DB_USER\"),\n",
    "#         password=os.getenv(\"DB_PASSWORD\"),\n",
    "#         host=os.getenv(\"DB_HOST\"),\n",
    "#         port=os.getenv(\"DB_PORT\")\n",
    "#     )\n",
    "#     cursor = conn.cursor()\n",
    "#     cursor.execute(\n",
    "#         \"INSERT INTO image_vectors (filename, vector) VALUES (%s, %s)\",\n",
    "#         (filename, vector)\n",
    "#     )\n",
    "#     conn.commit()\n",
    "#     cursor.close()\n",
    "#     conn.close()"
   ]
  }
 ],
 "metadata": {
  "kernelspec": {
   "display_name": "9knows",
   "language": "python",
   "name": "python3"
  },
  "language_info": {
   "codemirror_mode": {
    "name": "ipython",
    "version": 3
   },
   "file_extension": ".py",
   "mimetype": "text/x-python",
   "name": "python",
   "nbconvert_exporter": "python",
   "pygments_lexer": "ipython3",
   "version": "3.13.4"
  }
 },
 "nbformat": 4,
 "nbformat_minor": 5
}
